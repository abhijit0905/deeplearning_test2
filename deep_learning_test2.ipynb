{
 "cells": [
  {
   "cell_type": "code",
   "execution_count": 3,
   "id": "a9764429-3a47-434f-a584-639d6933ecdb",
   "metadata": {},
   "outputs": [
    {
     "name": "stderr",
     "output_type": "stream",
     "text": [
      "ERROR: Could not find a version that satisfies the requirement tensorflow==2.0 (from versions: 2.16.0rc0, 2.16.1, 2.16.2, 2.17.0rc0, 2.17.0rc1, 2.17.0, 2.17.1, 2.18.0rc0, 2.18.0rc1, 2.18.0rc2, 2.18.0)\n",
      "ERROR: No matching distribution found for tensorflow==2.0\n"
     ]
    },
    {
     "name": "stdout",
     "output_type": "stream",
     "text": [
      "Channels:\n",
      " - defaults\n",
      "Platform: win-64\n",
      "Collecting package metadata (repodata.json): ...working... done\n",
      "Solving environment: ...working... \n"
     ]
    }
   ],
   "source": [
    "#1\n",
    "!pip install tensorflow==2.0\n",
    "!conda install tensorflow=2.0\n",
    "import tensorflow as tf\n",
    "\n",
    "\n"
   ]
  },
  {
   "cell_type": "code",
   "execution_count": 4,
   "id": "c1ebe258-2e0c-4007-bf31-14b26a523ad7",
   "metadata": {},
   "outputs": [
    {
     "name": "stdout",
     "output_type": "stream",
     "text": [
      "The result of adding 5 and 3 is: 8\n"
     ]
    }
   ],
   "source": [
    "#2\n",
    "import tensorflow as tf\n",
    "\n",
    "# Define a simple function to perform addition\n",
    "def add_numbers(a, b):\n",
    "    return tf.add(a, b)\n",
    "\n",
    "# Test the function\n",
    "x = tf.constant(5)\n",
    "y = tf.constant(3)\n",
    "\n",
    "result = add_numbers(x, y)\n",
    "\n",
    "# Print the result\n",
    "print(f\"The result of adding {x.numpy()} and {y.numpy()} is: {result.numpy()}\")\n"
   ]
  },
  {
   "cell_type": "code",
   "execution_count": 5,
   "id": "39c916fb-af3a-4660-9ac3-3796bce0a8c9",
   "metadata": {},
   "outputs": [
    {
     "name": "stdout",
     "output_type": "stream",
     "text": [
      "Downloading data from https://storage.googleapis.com/tensorflow/tf-keras-datasets/mnist.npz\n",
      "\u001b[1m11490434/11490434\u001b[0m \u001b[32m━━━━━━━━━━━━━━━━━━━━\u001b[0m\u001b[37m\u001b[0m \u001b[1m3s\u001b[0m 0us/step\n"
     ]
    },
    {
     "name": "stderr",
     "output_type": "stream",
     "text": [
      "C:\\Users\\HP\\anaconda3\\Lib\\site-packages\\keras\\src\\layers\\core\\dense.py:87: UserWarning: Do not pass an `input_shape`/`input_dim` argument to a layer. When using Sequential models, prefer using an `Input(shape)` object as the first layer in the model instead.\n",
      "  super().__init__(activity_regularizer=activity_regularizer, **kwargs)\n"
     ]
    },
    {
     "name": "stdout",
     "output_type": "stream",
     "text": [
      "Epoch 1/5\n",
      "\u001b[1m1875/1875\u001b[0m \u001b[32m━━━━━━━━━━━━━━━━━━━━\u001b[0m\u001b[37m\u001b[0m \u001b[1m10s\u001b[0m 4ms/step - accuracy: 0.8761 - loss: 0.4397\n",
      "Epoch 2/5\n",
      "\u001b[1m1875/1875\u001b[0m \u001b[32m━━━━━━━━━━━━━━━━━━━━\u001b[0m\u001b[37m\u001b[0m \u001b[1m8s\u001b[0m 4ms/step - accuracy: 0.9637 - loss: 0.1241\n",
      "Epoch 3/5\n",
      "\u001b[1m1875/1875\u001b[0m \u001b[32m━━━━━━━━━━━━━━━━━━━━\u001b[0m\u001b[37m\u001b[0m \u001b[1m11s\u001b[0m 4ms/step - accuracy: 0.9750 - loss: 0.0820\n",
      "Epoch 4/5\n",
      "\u001b[1m1875/1875\u001b[0m \u001b[32m━━━━━━━━━━━━━━━━━━━━\u001b[0m\u001b[37m\u001b[0m \u001b[1m8s\u001b[0m 4ms/step - accuracy: 0.9812 - loss: 0.0590\n",
      "Epoch 5/5\n",
      "\u001b[1m1875/1875\u001b[0m \u001b[32m━━━━━━━━━━━━━━━━━━━━\u001b[0m\u001b[37m\u001b[0m \u001b[1m8s\u001b[0m 4ms/step - accuracy: 0.9864 - loss: 0.0444\n",
      "\u001b[1m313/313\u001b[0m \u001b[32m━━━━━━━━━━━━━━━━━━━━\u001b[0m\u001b[37m\u001b[0m \u001b[1m1s\u001b[0m 3ms/step - accuracy: 0.9721 - loss: 0.0829\n",
      "Test accuracy: 0.9751\n",
      "\u001b[1m313/313\u001b[0m \u001b[32m━━━━━━━━━━━━━━━━━━━━\u001b[0m\u001b[37m\u001b[0m \u001b[1m1s\u001b[0m 2ms/step\n",
      "Prediction for first test image: 7\n"
     ]
    }
   ],
   "source": [
    "#3\n",
    "import tensorflow as tf\n",
    "from tensorflow.keras import layers, models\n",
    "import numpy as np\n",
    "import matplotlib.pyplot as plt\n",
    "\n",
    "# Load the MNIST dataset\n",
    "(x_train, y_train), (x_test, y_test) = tf.keras.datasets.mnist.load_data()\n",
    "\n",
    "# Preprocess the data: Flatten the images and normalize\n",
    "x_train = x_train.reshape(-1, 28 * 28).astype('float32') / 255.0\n",
    "x_test = x_test.reshape(-1, 28 * 28).astype('float32') / 255.0\n",
    "\n",
    "# Create a simple neural network with one hidden layer\n",
    "model = models.Sequential([\n",
    "    layers.Dense(128, activation='relu', input_shape=(28 * 28,)),  # Hidden layer with 128 units\n",
    "    layers.Dense(10, activation='softmax')  # Output layer with 10 units (one for each digit)\n",
    "])\n",
    "\n",
    "# Compile the model\n",
    "model.compile(optimizer='adam',\n",
    "              loss='sparse_categorical_crossentropy',  # Use sparse because labels are integers\n",
    "              metrics=['accuracy'])\n",
    "\n",
    "# Train the model\n",
    "model.fit(x_train, y_train, epochs=5, batch_size=32)\n",
    "\n",
    "# Evaluate the model on the test set\n",
    "test_loss, test_acc = model.evaluate(x_test, y_test)\n",
    "print(f\"Test accuracy: {test_acc:.4f}\")\n",
    "\n",
    "# Make a prediction\n",
    "predictions = model.predict(x_test)\n",
    "print(f\"Prediction for first test image: {np.argmax(predictions[0])}\")\n"
   ]
  },
  {
   "cell_type": "code",
   "execution_count": 6,
   "id": "b57b1da3-9a5a-4f9e-9076-f1f31bbbb4d8",
   "metadata": {},
   "outputs": [
    {
     "name": "stdout",
     "output_type": "stream",
     "text": [
      "Epoch 1/5\n",
      "\u001b[1m1875/1875\u001b[0m \u001b[32m━━━━━━━━━━━━━━━━━━━━\u001b[0m\u001b[37m\u001b[0m \u001b[1m10s\u001b[0m 5ms/step - accuracy: 0.8796 - loss: 0.4210 - val_accuracy: 0.9562 - val_loss: 0.1437\n",
      "Epoch 2/5\n",
      "\u001b[1m1875/1875\u001b[0m \u001b[32m━━━━━━━━━━━━━━━━━━━━\u001b[0m\u001b[37m\u001b[0m \u001b[1m9s\u001b[0m 5ms/step - accuracy: 0.9640 - loss: 0.1215 - val_accuracy: 0.9697 - val_loss: 0.0994\n",
      "Epoch 3/5\n",
      "\u001b[1m1875/1875\u001b[0m \u001b[32m━━━━━━━━━━━━━━━━━━━━\u001b[0m\u001b[37m\u001b[0m \u001b[1m9s\u001b[0m 5ms/step - accuracy: 0.9762 - loss: 0.0782 - val_accuracy: 0.9706 - val_loss: 0.0920\n",
      "Epoch 4/5\n",
      "\u001b[1m1875/1875\u001b[0m \u001b[32m━━━━━━━━━━━━━━━━━━━━\u001b[0m\u001b[37m\u001b[0m \u001b[1m9s\u001b[0m 5ms/step - accuracy: 0.9830 - loss: 0.0574 - val_accuracy: 0.9771 - val_loss: 0.0741\n",
      "Epoch 5/5\n",
      "\u001b[1m1875/1875\u001b[0m \u001b[32m━━━━━━━━━━━━━━━━━━━━\u001b[0m\u001b[37m\u001b[0m \u001b[1m9s\u001b[0m 5ms/step - accuracy: 0.9875 - loss: 0.0420 - val_accuracy: 0.9739 - val_loss: 0.0849\n"
     ]
    },
    {
     "data": {
      "image/png": "[encoded data removed]",
      "text/plain": [
       "<Figure size 1200x600 with 2 Axes>"
      ]
     },
     "metadata": {},
     "output_type": "display_data"
    }
   ],
   "source": [
    "#4\n",
    "import tensorflow as tf\n",
    "import matplotlib.pyplot as plt\n",
    "\n",
    "# Load the MNIST dataset\n",
    "(x_train, y_train), (x_test, y_test) = tf.keras.datasets.mnist.load_data()\n",
    "\n",
    "# Preprocess the data: Flatten the images and normalize\n",
    "x_train = x_train.reshape(-1, 28 * 28).astype('float32') / 255.0\n",
    "x_test = x_test.reshape(-1, 28 * 28).astype('float32') / 255.0\n",
    "\n",
    "# Create a simple neural network with one hidden layer\n",
    "model = tf.keras.Sequential([\n",
    "    tf.keras.layers.Dense(128, activation='relu', input_shape=(28 * 28,)),  # Hidden layer\n",
    "    tf.keras.layers.Dense(10, activation='softmax')  # Output layer\n",
    "])\n",
    "\n",
    "# Compile the model\n",
    "model.compile(optimizer='adam',\n",
    "              loss='sparse_categorical_crossentropy',\n",
    "              metrics=['accuracy'])\n",
    "\n",
    "# Train the model and save the history object\n",
    "history = model.fit(x_train, y_train, epochs=5, batch_size=32, validation_data=(x_test, y_test))\n",
    "\n",
    "# Visualize the training progress (loss and accuracy)\n",
    "# Plot training and validation loss\n",
    "plt.figure(figsize=(12, 6))\n",
    "\n",
    "# Plot Loss\n",
    "plt.subplot(1, 2, 1)\n",
    "plt.plot(history.history['loss'], label='Training Loss')\n",
    "plt.plot(history.history['val_loss'], label='Validation Loss')\n",
    "plt.title('Training and Validation Loss')\n",
    "plt.xlabel('Epochs')\n",
    "plt.ylabel('Loss')\n",
    "plt.legend()\n",
    "\n",
    "# Plot Accuracy\n",
    "plt.subplot(1, 2, 2)\n",
    "plt.plot(history.history['accuracy'], label='Training Accuracy')\n",
    "plt.plot(history.history['val_accuracy'], label='Validation Accuracy')\n",
    "plt.title('Training and Validation Accuracy')\n",
    "plt.xlabel('Epochs')\n",
    "plt.ylabel('Accuracy')\n",
    "plt.legend()\n",
    "\n",
    "# Show the plots\n",
    "plt.tight_layout()\n",
    "plt.show()\n"
   ]
  },
  {
   "cell_type": "code",
   "execution_count": 8,
   "id": "58164480-a452-4c0f-8d0a-b53cc7aa708c",
   "metadata": {},
   "outputs": [
    {
     "name": "stdout",
     "output_type": "stream",
     "text": [
      "Collecting torch\n",
      "  Downloading torch-2.5.1-cp312-cp312-win_amd64.whl.metadata (28 kB)\n",
      "Collecting torchvision\n",
      "  Downloading torchvision-0.20.1-cp312-cp312-win_amd64.whl.metadata (6.2 kB)\n",
      "Collecting torchaudio\n",
      "  Downloading torchaudio-2.5.1-cp312-cp312-win_amd64.whl.metadata (6.5 kB)\n",
      "Requirement already satisfied: filelock in c:\\users\\hp\\anaconda3\\lib\\site-packages (from torch) (3.13.1)\n",
      "Requirement already satisfied: typing-extensions>=4.8.0 in c:\\users\\hp\\anaconda3\\lib\\site-packages (from torch) (4.11.0)\n",
      "Requirement already satisfied: networkx in c:\\users\\hp\\anaconda3\\lib\\site-packages (from torch) (3.3)\n",
      "Requirement already satisfied: jinja2 in c:\\users\\hp\\anaconda3\\lib\\site-packages (from torch) (3.1.4)\n",
      "Requirement already satisfied: fsspec in c:\\users\\hp\\anaconda3\\lib\\site-packages (from torch) (2024.6.1)\n",
      "Requirement already satisfied: setuptools in c:\\users\\hp\\anaconda3\\lib\\site-packages (from torch) (75.1.0)\n",
      "Collecting sympy==1.13.1 (from torch)\n",
      "  Downloading sympy-1.13.1-py3-none-any.whl.metadata (12 kB)\n",
      "Requirement already satisfied: mpmath<1.4,>=1.1.0 in c:\\users\\hp\\anaconda3\\lib\\site-packages (from sympy==1.13.1->torch) (1.3.0)\n",
      "Requirement already satisfied: numpy in c:\\users\\hp\\anaconda3\\lib\\site-packages (from torchvision) (1.26.4)\n",
      "Requirement already satisfied: pillow!=8.3.*,>=5.3.0 in c:\\users\\hp\\anaconda3\\lib\\site-packages (from torchvision) (10.4.0)\n",
      "Requirement already satisfied: MarkupSafe>=2.0 in c:\\users\\hp\\anaconda3\\lib\\site-packages (from jinja2->torch) (2.1.3)\n",
      "Downloading torch-2.5.1-cp312-cp312-win_amd64.whl (203.0 MB)\n",
      "   ---------------------------------------- 0.0/203.0 MB ? eta -:--:--\n",
      "   ---------------------------------------- 0.3/203.0 MB ? eta -:--:--\n",
      "   - -------------------------------------- 5.8/203.0 MB 25.1 MB/s eta 0:00:08\n",
      "   -- ------------------------------------- 12.6/203.0 MB 29.2 MB/s eta 0:00:07\n",
      "   --- ------------------------------------ 20.2/203.0 MB 31.9 MB/s eta 0:00:06\n",
      "   ----- ---------------------------------- 27.3/203.0 MB 32.6 MB/s eta 0:00:06\n",
      "   ------ --------------------------------- 30.7/203.0 MB 29.5 MB/s eta 0:00:06\n",
      "   ------ --------------------------------- 35.4/203.0 MB 28.1 MB/s eta 0:00:06\n",
      "   -------- ------------------------------- 42.7/203.0 MB 28.9 MB/s eta 0:00:06\n",
      "   --------- ------------------------------ 49.8/203.0 MB 29.6 MB/s eta 0:00:06\n",
      "   ---------- ----------------------------- 52.7/203.0 MB 30.0 MB/s eta 0:00:06\n",
      "   ----------- ---------------------------- 59.5/203.0 MB 28.3 MB/s eta 0:00:06\n",
      "   ------------- -------------------------- 66.6/203.0 MB 28.9 MB/s eta 0:00:05\n",
      "   -------------- ------------------------- 73.7/203.0 MB 29.2 MB/s eta 0:00:05\n",
      "   --------------- ------------------------ 80.2/203.0 MB 29.6 MB/s eta 0:00:05\n",
      "   ----------------- ---------------------- 86.5/203.0 MB 29.5 MB/s eta 0:00:04\n",
      "   ------------------ --------------------- 93.3/203.0 MB 29.9 MB/s eta 0:00:04\n",
      "   ------------------- ------------------- 100.7/203.0 MB 30.2 MB/s eta 0:00:04\n",
      "   -------------------- ------------------ 107.5/203.0 MB 30.4 MB/s eta 0:00:04\n",
      "   --------------------- ----------------- 114.3/203.0 MB 30.5 MB/s eta 0:00:03\n",
      "   ----------------------- --------------- 120.3/203.0 MB 30.6 MB/s eta 0:00:03\n",
      "   ------------------------ -------------- 127.1/203.0 MB 30.6 MB/s eta 0:00:03\n",
      "   -------------------------- ------------ 136.3/203.0 MB 31.2 MB/s eta 0:00:03\n",
      "   --------------------------- ----------- 144.4/203.0 MB 31.6 MB/s eta 0:00:02\n",
      "   ----------------------------- --------- 153.1/203.0 MB 32.0 MB/s eta 0:00:02\n",
      "   ------------------------------ -------- 157.3/203.0 MB 32.0 MB/s eta 0:00:02\n",
      "   ------------------------------ -------- 161.2/203.0 MB 31.0 MB/s eta 0:00:02\n",
      "   -------------------------------- ------ 167.2/203.0 MB 31.0 MB/s eta 0:00:02\n",
      "   --------------------------------- ----- 172.8/203.0 MB 30.9 MB/s eta 0:00:01\n",
      "   ---------------------------------- ---- 177.5/203.0 MB 30.6 MB/s eta 0:00:01\n",
      "   ---------------------------------- ---- 181.9/203.0 MB 30.3 MB/s eta 0:00:01\n",
      "   ----------------------------------- --- 183.2/203.0 MB 30.0 MB/s eta 0:00:01\n",
      "   ----------------------------------- --- 185.6/203.0 MB 28.9 MB/s eta 0:00:01\n",
      "   ------------------------------------ -- 189.5/203.0 MB 28.5 MB/s eta 0:00:01\n",
      "   ------------------------------------- - 193.2/203.0 MB 28.2 MB/s eta 0:00:01\n",
      "   ------------------------------------- - 197.4/203.0 MB 28.0 MB/s eta 0:00:01\n",
      "   --------------------------------------  201.9/203.0 MB 27.7 MB/s eta 0:00:01\n",
      "   --------------------------------------  202.9/203.0 MB 27.7 MB/s eta 0:00:01\n",
      "   --------------------------------------  202.9/203.0 MB 27.7 MB/s eta 0:00:01\n",
      "   --------------------------------------- 203.0/203.0 MB 25.9 MB/s eta 0:00:00\n",
      "Downloading sympy-1.13.1-py3-none-any.whl (6.2 MB)\n",
      "   ---------------------------------------- 0.0/6.2 MB ? eta -:--:--\n",
      "   --------------------------- ------------ 4.2/6.2 MB 20.9 MB/s eta 0:00:01\n",
      "   ---------------------------------------- 6.2/6.2 MB 18.9 MB/s eta 0:00:00\n",
      "Downloading torchvision-0.20.1-cp312-cp312-win_amd64.whl (1.6 MB)\n",
      "   ---------------------------------------- 0.0/1.6 MB ? eta -:--:--\n",
      "   ---------------------------------------- 1.6/1.6 MB 13.8 MB/s eta 0:00:00\n",
      "Downloading torchaudio-2.5.1-cp312-cp312-win_amd64.whl (2.4 MB)\n",
      "   ---------------------------------------- 0.0/2.4 MB ? eta -:--:--\n",
      "   ---------------------------------------- 2.4/2.4 MB 17.4 MB/s eta 0:00:00\n",
      "Installing collected packages: sympy, torch, torchvision, torchaudio\n",
      "  Attempting uninstall: sympy\n",
      "    Found existing installation: sympy 1.13.2\n",
      "    Uninstalling sympy-1.13.2:\n",
      "      Successfully uninstalled sympy-1.13.2\n",
      "Successfully installed sympy-1.13.1 torch-2.5.1 torchaudio-2.5.1 torchvision-0.20.1\n",
      "PyTorch version: 2.5.1+cpu\n",
      "CUDA is not available. PyTorch will use the CPU.\n"
     ]
    }
   ],
   "source": [
    "#5\n",
    "!pip install torch torchvision torchaudio\n",
    "import torch\n",
    "\n",
    "# Check PyTorch version\n",
    "print(f\"PyTorch version: {torch.__version__}\")\n",
    "\n",
    "# Check if PyTorch is using a GPU\n",
    "if torch.cuda.is_available():\n",
    "    print(f\"CUDA is available. PyTorch will use the GPU: {torch.cuda.get_device_name(0)}\")\n",
    "else:\n",
    "    print(\"CUDA is not available. PyTorch will use the CPU.\")\n"
   ]
  },
  {
   "cell_type": "code",
   "execution_count": 9,
   "id": "2ca612e1-3652-46f8-a313-91b17162607e",
   "metadata": {},
   "outputs": [
    {
     "name": "stdout",
     "output_type": "stream",
     "text": [
      "Downloading http://yann.lecun.com/exdb/mnist/train-images-idx3-ubyte.gz\n",
      "Failed to download (trying next):\n",
      "HTTP Error 403: Forbidden\n",
      "\n",
      "Downloading https://ossci-datasets.s3.amazonaws.com/mnist/train-images-idx3-ubyte.gz\n",
      "Downloading https://ossci-datasets.s3.amazonaws.com/mnist/train-images-idx3-ubyte.gz to ./data\\MNIST\\raw\\train-images-idx3-ubyte.gz\n"
     ]
    },
    {
     "name": "stderr",
     "output_type": "stream",
     "text": [
      "100%|██████████| 9.91M/9.91M [00:06<00:00, 1.63MB/s]\n"
     ]
    },
    {
     "name": "stdout",
     "output_type": "stream",
     "text": [
      "Extracting ./data\\MNIST\\raw\\train-images-idx3-ubyte.gz to ./data\\MNIST\\raw\n",
      "\n",
      "Downloading http://yann.lecun.com/exdb/mnist/train-labels-idx1-ubyte.gz\n",
      "Failed to download (trying next):\n",
      "HTTP Error 403: Forbidden\n",
      "\n",
      "Downloading https://ossci-datasets.s3.amazonaws.com/mnist/train-labels-idx1-ubyte.gz\n",
      "Downloading https://ossci-datasets.s3.amazonaws.com/mnist/train-labels-idx1-ubyte.gz to ./data\\MNIST\\raw\\train-labels-idx1-ubyte.gz\n"
     ]
    },
    {
     "name": "stderr",
     "output_type": "stream",
     "text": [
      "100%|██████████| 28.9k/28.9k [00:00<00:00, 75.8kB/s]\n"
     ]
    },
    {
     "name": "stdout",
     "output_type": "stream",
     "text": [
      "Extracting ./data\\MNIST\\raw\\train-labels-idx1-ubyte.gz to ./data\\MNIST\\raw\n",
      "\n",
      "Downloading http://yann.lecun.com/exdb/mnist/t10k-images-idx3-ubyte.gz\n",
      "Failed to download (trying next):\n",
      "HTTP Error 403: Forbidden\n",
      "\n",
      "Downloading https://ossci-datasets.s3.amazonaws.com/mnist/t10k-images-idx3-ubyte.gz\n",
      "Downloading https://ossci-datasets.s3.amazonaws.com/mnist/t10k-images-idx3-ubyte.gz to ./data\\MNIST\\raw\\t10k-images-idx3-ubyte.gz\n"
     ]
    },
    {
     "name": "stderr",
     "output_type": "stream",
     "text": [
      "100%|██████████| 1.65M/1.65M [00:01<00:00, 899kB/s] \n"
     ]
    },
    {
     "name": "stdout",
     "output_type": "stream",
     "text": [
      "Extracting ./data\\MNIST\\raw\\t10k-images-idx3-ubyte.gz to ./data\\MNIST\\raw\n",
      "\n",
      "Downloading http://yann.lecun.com/exdb/mnist/t10k-labels-idx1-ubyte.gz\n",
      "Failed to download (trying next):\n",
      "HTTP Error 403: Forbidden\n",
      "\n",
      "Downloading https://ossci-datasets.s3.amazonaws.com/mnist/t10k-labels-idx1-ubyte.gz\n",
      "Downloading https://ossci-datasets.s3.amazonaws.com/mnist/t10k-labels-idx1-ubyte.gz to ./data\\MNIST\\raw\\t10k-labels-idx1-ubyte.gz\n"
     ]
    },
    {
     "name": "stderr",
     "output_type": "stream",
     "text": [
      "100%|██████████| 4.54k/4.54k [00:00<?, ?B/s]\n"
     ]
    },
    {
     "name": "stdout",
     "output_type": "stream",
     "text": [
      "Extracting ./data\\MNIST\\raw\\t10k-labels-idx1-ubyte.gz to ./data\\MNIST\\raw\n",
      "\n",
      "Epoch 1/5, Loss: 0.37432605560336796\n",
      "Epoch 2/5, Loss: 0.18792379973952705\n",
      "Epoch 3/5, Loss: 0.1349040477224854\n",
      "Epoch 4/5, Loss: 0.10879612230121899\n",
      "Epoch 5/5, Loss: 0.09279521105727598\n",
      "Accuracy on the test dataset: 96.61%\n"
     ]
    }
   ],
   "source": [
    "#6\n",
    "import torch\n",
    "import torch.nn as nn\n",
    "import torch.optim as optim\n",
    "from torch.utils.data import DataLoader\n",
    "from torchvision import datasets, transforms\n",
    "class SimpleNN(nn.Module):\n",
    "    def __init__(self):\n",
    "        super(SimpleNN, self).__init__()\n",
    "        self.fc1 = nn.Linear(28 * 28, 128)  # Input layer (28x28 pixels) to hidden layer (128 neurons)\n",
    "        self.fc2 = nn.Linear(128, 10)       # Hidden layer (128 neurons) to output layer (10 classes)\n",
    "\n",
    "    def forward(self, x):\n",
    "        x = torch.flatten(x, 1)  # Flatten the image (28x28) to a 1D vector\n",
    "        x = torch.relu(self.fc1(x))  # ReLU activation function\n",
    "        x = self.fc2(x)  # Output layer\n",
    "        return x\n",
    "# Define a transform to normalize the data\n",
    "transform = transforms.Compose([\n",
    "    transforms.ToTensor(),  # Convert images to PyTorch tensors\n",
    "    transforms.Normalize((0.5,), (0.5,))  # Normalize the data (mean, std)\n",
    "])\n",
    "\n",
    "# Download and load the training and test datasets\n",
    "train_data = datasets.MNIST(root='./data', train=True, download=True, transform=transform)\n",
    "test_data = datasets.MNIST(root='./data', train=False, download=True, transform=transform)\n",
    "\n",
    "# DataLoader for batching the data\n",
    "train_loader = DataLoader(train_data, batch_size=64, shuffle=True)\n",
    "test_loader = DataLoader(test_data, batch_size=64, shuffle=False)\n",
    "# Create the neural network model\n",
    "model = SimpleNN()\n",
    "\n",
    "# Define the loss function and optimizer\n",
    "criterion = nn.CrossEntropyLoss()  # Cross-entropy loss for classification\n",
    "optimizer = optim.Adam(model.parameters(), lr=0.001)  # Adam optimizer\n",
    "# Train the model\n",
    "num_epochs = 5  # Number of training epochs\n",
    "\n",
    "for epoch in range(num_epochs):\n",
    "    model.train()  # Set the model to training mode\n",
    "    running_loss = 0.0\n",
    "\n",
    "    for images, labels in train_loader:\n",
    "        # Zero the parameter gradients\n",
    "        optimizer.zero_grad()\n",
    "\n",
    "        # Forward pass\n",
    "        outputs = model(images)\n",
    "\n",
    "        # Calculate the loss\n",
    "        loss = criterion(outputs, labels)\n",
    "\n",
    "        # Backward pass and optimization\n",
    "        loss.backward()\n",
    "        optimizer.step()\n",
    "\n",
    "        running_loss += loss.item()\n",
    "\n",
    "    # Print average loss for the epoch\n",
    "    print(f\"Epoch {epoch+1}/{num_epochs}, Loss: {running_loss/len(train_loader)}\")\n",
    "# Evaluate the model on the test dataset\n",
    "model.eval()  # Set the model to evaluation mode\n",
    "correct = 0\n",
    "total = 0\n",
    "\n",
    "with torch.no_grad():  # No need to calculate gradients during testing\n",
    "    for images, labels in test_loader:\n",
    "        outputs = model(images)\n",
    "        _, predicted = torch.max(outputs, 1)  # Get the index of the max log-probability\n",
    "        total += labels.size(0)\n",
    "        correct += (predicted == labels).sum().item()\n",
    "\n",
    "accuracy = 100 * correct / total\n",
    "print(f\"Accuracy on the test dataset: {accuracy:.2f}%\")\n"
   ]
  },
  {
   "cell_type": "code",
   "execution_count": 10,
   "id": "07490d58-da5a-4c59-9ecc-0237d4c9211f",
   "metadata": {},
   "outputs": [
    {
     "name": "stdout",
     "output_type": "stream",
     "text": [
      "Loss: 2.703587770462036\n"
     ]
    }
   ],
   "source": [
    "#7.\n",
    "import torch\n",
    "import torch.nn as nn\n",
    "\n",
    "# Define the loss function (Cross-Entropy Loss for classification)\n",
    "loss_fn = nn.CrossEntropyLoss()\n",
    "\n",
    "# Example usage:\n",
    "# Suppose we have the model's output (logits) and the target labels\n",
    "output = torch.randn(64, 10)  # 64 samples, 10 classes (e.g., for MNIST)\n",
    "target = torch.randint(0, 10, (64,))  # Random target labels (64 samples)\n",
    "\n",
    "# Calculate the loss\n",
    "loss = loss_fn(output, target)\n",
    "print(f\"Loss: {loss.item()}\")\n"
   ]
  },
  {
   "cell_type": "code",
   "execution_count": 11,
   "id": "375b9e6e-848c-4bfb-9be4-1d49da5f20d8",
   "metadata": {},
   "outputs": [
    {
     "name": "stdout",
     "output_type": "stream",
     "text": [
      "Loss: 2.294731378555298\n"
     ]
    }
   ],
   "source": [
    "#8.\n",
    "import torch.optim as optim\n",
    "import torch.nn as nn\n",
    "\n",
    "# Example: A simple neural network with one hidden layer\n",
    "class SimpleNN(nn.Module):\n",
    "    def __init__(self):\n",
    "        super(SimpleNN, self).__init__()\n",
    "        self.fc1 = nn.Linear(28 * 28, 128)  # Input layer (28x28 pixels) to hidden layer (128 neurons)\n",
    "        self.fc2 = nn.Linear(128, 10)       # Hidden layer (128 neurons) to output layer (10 classes)\n",
    "\n",
    "    def forward(self, x):\n",
    "        x = torch.flatten(x, 1)  # Flatten the image (28x28) to a 1D vector\n",
    "        x = torch.relu(self.fc1(x))  # ReLU activation function\n",
    "        x = self.fc2(x)  # Output layer\n",
    "        return x\n",
    "\n",
    "# Create an instance of the model\n",
    "model = SimpleNN()\n",
    "\n",
    "# Define the optimizer (Adam in this case)\n",
    "optimizer = optim.Adam(model.parameters(), lr=0.001)\n",
    "\n",
    "# Example usage:\n",
    "# Suppose we have a batch of data\n",
    "input_data = torch.randn(64, 28 * 28)  # 64 samples, each 28x28 flattened\n",
    "target_labels = torch.randint(0, 10, (64,))  # Random target labels (64 samples)\n",
    "\n",
    "# Zero the gradients before the backward pass\n",
    "optimizer.zero_grad()\n",
    "\n",
    "# Forward pass\n",
    "output = model(input_data)\n",
    "\n",
    "# Calculate the loss\n",
    "loss_fn = nn.CrossEntropyLoss()\n",
    "loss = loss_fn(output, target_labels)\n",
    "\n",
    "# Backward pass to compute gradients\n",
    "loss.backward()\n",
    "\n",
    "# Update the model's weights\n",
    "optimizer.step()\n",
    "\n",
    "print(f\"Loss: {loss.item()}\")\n"
   ]
  },
  {
   "cell_type": "code",
   "execution_count": 13,
   "id": "63b00836-d03e-4e71-aee8-43d318d82885",
   "metadata": {},
   "outputs": [],
   "source": [
    "#9.\n",
    "import torch\n",
    "import torch.nn as nn\n",
    "\n",
    "class CustomMAELoss(nn.Module):\n",
    "    def __init__(self, weight_factor=1.0):\n",
    "        super(CustomMAELoss, self).__init__()\n",
    "        self.weight_factor = weight_factor  # Factor to modify the loss\n",
    "\n",
    "    def forward(self, output, target):\n",
    "        # Calculate the Mean Absolute Error\n",
    "        mae = torch.abs(output - target).mean()\n",
    "        \n",
    "        # Add a custom weighting based on the absolute value of the output\n",
    "        weight = torch.abs(output).mean() * self.weight_factor\n",
    "        loss = mae + weight  # Final custom loss: MAE + weight term\n",
    "        \n",
    "        return loss\n"
   ]
  },
  {
   "cell_type": "code",
   "execution_count": null,
   "id": "076ad381-c4c1-4e31-96d9-0789cdc50711",
   "metadata": {},
   "outputs": [],
   "source": []
  },
  {
   "cell_type": "code",
   "execution_count": null,
   "id": "733588ad-90b6-4790-b17a-c1f5ac66f398",
   "metadata": {},
   "outputs": [],
   "source": []
  }
 ],
 "metadata": {
  "kernelspec": {
   "display_name": "Python 3 (ipykernel)",
   "language": "python",
   "name": "python3"
  },
  "language_info": {
   "codemirror_mode": {
    "name": "ipython",
    "version": 3
   },
   "file_extension": ".py",
   "mimetype": "text/x-python",
   "name": "python",
   "nbconvert_exporter": "python",
   "pygments_lexer": "ipython3",
   "version": "3.12.7"
  }
 },
 "nbformat": 4,
 "nbformat_minor": 5
}
